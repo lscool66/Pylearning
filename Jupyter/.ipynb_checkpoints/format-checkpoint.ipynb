{
 "cells": [
  {
   "cell_type": "code",
   "execution_count": 2,
   "metadata": {},
   "outputs": [
    {
     "name": "stdout",
     "output_type": "stream",
     "text": [
      "                          \n",
      "                         1\n",
      "                       2 1\n",
      "                     3 2 1\n",
      "                   4 3 2 1\n",
      "                 5 4 3 2 1\n",
      "               6 5 4 3 2 1\n",
      "             7 6 5 4 3 2 1\n",
      "           8 7 6 5 4 3 2 1\n",
      "         9 8 7 6 5 4 3 2 1\n",
      "      10 9 8 7 6 5 4 3 2 1\n",
      "   11 10 9 8 7 6 5 4 3 2 1\n",
      "12 11 10 9 8 7 6 5 4 3 2 1\n"
     ]
    }
   ],
   "source": [
    "def show(n):\n",
    "    tail = ' '.join([str(i) for i in range(n,0,-1)])\n",
    "    width = len(tail)\n",
    "    for i in range(n):\n",
    "        print(\"{:>{}}\".format(' '.join([str(j) for j in range(i,0,-1)]),width))\n",
    "    print(tail)\n",
    "show(12)"
   ]
  },
  {
   "cell_type": "code",
   "execution_count": 3,
   "metadata": {},
   "outputs": [
    {
     "name": "stdout",
     "output_type": "stream",
     "text": [
      "12 11 10 9 8 7 6 5 4 3 2 1\n",
      "   11 10 9 8 7 6 5 4 3 2 1\n",
      "      10 9 8 7 6 5 4 3 2 1\n",
      "         9 8 7 6 5 4 3 2 1\n",
      "           8 7 6 5 4 3 2 1\n",
      "             7 6 5 4 3 2 1\n",
      "               6 5 4 3 2 1\n",
      "                 5 4 3 2 1\n",
      "                   4 3 2 1\n",
      "                     3 2 1\n",
      "                       2 1\n",
      "                         1\n"
     ]
    }
   ],
   "source": [
    "def showtail(n):\n",
    "    tail = ' '.join([str(i) for i in range(n,0,-1)])\n",
    "    print(tail)\n",
    "    width = len(tail)\n",
    "    for i in range(width):\n",
    "        if tail[i] == ' ':\n",
    "            print(' '*i,tail[i+1:])\n",
    "showtail(12)"
   ]
  },
  {
   "cell_type": "code",
   "execution_count": null,
   "metadata": {},
   "outputs": [],
   "source": []
  }
 ],
 "metadata": {
  "kernelspec": {
   "display_name": "Python 3",
   "language": "python",
   "name": "python3"
  },
  "language_info": {
   "codemirror_mode": {
    "name": "ipython",
    "version": 3
   },
   "file_extension": ".py",
   "mimetype": "text/x-python",
   "name": "python",
   "nbconvert_exporter": "python",
   "pygments_lexer": "ipython3",
   "version": "3.7.0"
  }
 },
 "nbformat": 4,
 "nbformat_minor": 2
}
