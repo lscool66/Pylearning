{
 "cells": [
  {
   "cell_type": "code",
   "execution_count": null,
   "metadata": {},
   "outputs": [],
   "source": [
    "def quick_sort(collection):\n",
    "    \"\"\"Pure implementation of quick sort algorithm in Python\n",
    "    :param collection: some mutable ordered collection with heterogeneous\n",
    "    comparable items inside\n",
    "    :return: the same collection ordered by ascending\n",
    "    Examples:\n",
    "    >>> quick_sort([0, 5, 3, 2, 2])\n",
    "    [0, 2, 2, 3, 5]\n",
    "    >>> quick_sort([])\n",
    "    []\n",
    "    >>> quick_sort([-2, -5, -45])\n",
    "    [-45, -5, -2]\n",
    "    \"\"\"\n",
    "    length = len(collection)\n",
    "    if length <= 1:\n",
    "        return collection\n",
    "    else:\n",
    "        # Use the last element as the first pivot\n",
    "        pivot = collection.pop()\n",
    "        # Put elements greater than pivot in greater list\n",
    "        # Put elements lesser than pivot in lesser list\n",
    "        greater, lesser = [], []\n",
    "        for element in collection:\n",
    "            if element > pivot:\n",
    "                greater.append(element)\n",
    "            else:\n",
    "                lesser.append(element)\n",
    "        return quick_sort(lesser) + [pivot] + quick_sort(greater)"
   ]
  }
 ],
 "metadata": {
  "kernelspec": {
   "display_name": "Python 3",
   "language": "python",
   "name": "python3"
  },
  "language_info": {
   "codemirror_mode": {
    "name": "ipython",
    "version": 3
   },
   "file_extension": ".py",
   "mimetype": "text/x-python",
   "name": "python",
   "nbconvert_exporter": "python",
   "pygments_lexer": "ipython3",
   "version": "3.7.0"
  }
 },
 "nbformat": 4,
 "nbformat_minor": 2
}
