{
 "cells": [
  {
   "cell_type": "code",
   "execution_count": 1,
   "metadata": {},
   "outputs": [
    {
     "name": "stdout",
     "output_type": "stream",
     "text": [
      "[1]\n",
      "[1, 1]\n",
      "[1, 2, 1]\n",
      "[1, 3, 3, 1]\n",
      "[1, 4, 6, 4, 1]\n",
      "[1, 5, 10, 10, 5, 1]\n",
      "[1, 6, 15, 20, 15, 6, 1]\n"
     ]
    }
   ],
   "source": [
    "trangle = []\n",
    "n=7\n",
    "for i in range(n):\n",
    "    if i==0:\n",
    "        trangle.append([1])\n",
    "        print(trangle[i])\n",
    "        continue\n",
    "    pre =trangle[i-1]\n",
    "    cur=[1]\n",
    "    for j in range(i-1):\n",
    "        cur.append(pre[j]+pre[j+1])\n",
    "    cur.append(1)\n",
    "    trangle.append(cur)\n",
    "    print(trangle[i])\n",
    "#print(trangle)"
   ]
  },
  {
   "cell_type": "code",
   "execution_count": 2,
   "metadata": {},
   "outputs": [
    {
     "name": "stdout",
     "output_type": "stream",
     "text": [
      "[1]\n",
      "[1, 1]\n",
      "[1, 2, 1]\n",
      "[1, 3, 3, 1]\n",
      "[1, 4, 6, 4, 1]\n",
      "[1, 5, 10, 10, 5, 1]\n"
     ]
    }
   ],
   "source": [
    "n=6\n",
    "oldline=[]\n",
    "newline=[1]\n",
    "print(newline)\n",
    "for i in range(1,n):\n",
    "    oldline=newline.copy()\n",
    "    oldline.append(0)\n",
    "    newline.clear()\n",
    "    for j in range(i+1):\n",
    "        newline.append(oldline[j-1]+oldline[j])\n",
    "    print(newline)"
   ]
  },
  {
   "cell_type": "code",
   "execution_count": 5,
   "metadata": {},
   "outputs": [
    {
     "name": "stdout",
     "output_type": "stream",
     "text": [
      "[[1], [1, 1], [1, 2, 1], [1, 3, 3, 1], [1, 4, 6, 4, 1], [1, 5, 10, 10, 5, 1]]\n"
     ]
    }
   ],
   "source": [
    "triangle = []\n",
    "n = 6\n",
    "for i in range(n):\n",
    "    row = [1]\n",
    "    for k in range(i):\n",
    "        row.append(1) if k == i-1 else row.append(0)\n",
    "    triangle.append(row)\n",
    "    if i == 0:\n",
    "        continue\n",
    "    for j in range(1,i//2 + 1):\n",
    "        val = triangle[i-1][j-1] + triangle[i-1][j]\n",
    "        row[j] = val\n",
    "        if j != i-j:\n",
    "            row[-j-1] = val\n",
    "print(triangle)"
   ]
  },
  {
   "cell_type": "code",
   "execution_count": 4,
   "metadata": {},
   "outputs": [
    {
     "name": "stdout",
     "output_type": "stream",
     "text": [
      "[[1], [1, 1], [1, 2, 1], [1, 3, 3, 1], [1, 4, 6, 4, 1], [1, 5, 10, 10, 5, 1]]\n"
     ]
    }
   ],
   "source": [
    "triangle = []\n",
    "n = 6\n",
    "for i in range(n):\n",
    "    row = [1]*(i+1)\n",
    "#     for k in range(i):\n",
    "#         row.append(1) if k == i-1 else row.append(0)\n",
    "    triangle.append(row)\n",
    "    if i == 0:\n",
    "        continue\n",
    "    for j in range(1,i//2 + 1):\n",
    "        val = triangle[i-1][j-1] + triangle[i-1][j]\n",
    "        row[j] = val\n",
    "        if j != i-j:\n",
    "            row[-j-1] = val\n",
    "print(triangle)"
   ]
  },
  {
   "cell_type": "code",
   "execution_count": null,
   "metadata": {},
   "outputs": [],
   "source": []
  }
 ],
 "metadata": {
  "kernelspec": {
   "display_name": "Python 3",
   "language": "python",
   "name": "python3"
  },
  "language_info": {
   "codemirror_mode": {
    "name": "ipython",
    "version": 3
   },
   "file_extension": ".py",
   "mimetype": "text/x-python",
   "name": "python",
   "nbconvert_exporter": "python",
   "pygments_lexer": "ipython3",
   "version": "3.7.0"
  }
 },
 "nbformat": 4,
 "nbformat_minor": 2
}
