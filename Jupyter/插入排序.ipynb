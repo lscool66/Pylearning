{
 "cells": [
  {
   "cell_type": "code",
   "execution_count": null,
   "metadata": {},
   "outputs": [],
   "source": [
    "def insertion_sort(collection):\n",
    "    \"\"\"Pure implementation of the insertion sort algorithm in Python\n",
    "\n",
    "    :param collection: some mutable ordered collection with heterogeneous\n",
    "    comparable items inside\n",
    "    :return: the same collection ordered by ascending\n",
    "\n",
    "    Examples:\n",
    "    >>> insertion_sort([0, 5, 3, 2, 2])\n",
    "    [0, 2, 2, 3, 5]\n",
    "\n",
    "    >>> insertion_sort([])\n",
    "    []\n",
    "\n",
    "    >>> insertion_sort([-2, -5, -45])\n",
    "    [-45, -5, -2]\n",
    "    \"\"\"\n",
    "\n",
    "    for loop_index in range(1, len(collection)):\n",
    "        insertion_index = loop_index\n",
    "        while insertion_index > 0 and collection[insertion_index - 1] > collection[insertion_index]:\n",
    "            collection[insertion_index], collection[insertion_index - 1] = collection[insertion_index - 1], collection[insertion_index]\n",
    "            insertion_index -= 1\n",
    "\n",
    "    return collection"
   ]
  }
 ],
 "metadata": {
  "kernelspec": {
   "display_name": "Python 3",
   "language": "python",
   "name": "python3"
  },
  "language_info": {
   "codemirror_mode": {
    "name": "ipython",
    "version": 3
   },
   "file_extension": ".py",
   "mimetype": "text/x-python",
   "name": "python",
   "nbconvert_exporter": "python",
   "pygments_lexer": "ipython3",
   "version": "3.7.0"
  }
 },
 "nbformat": 4,
 "nbformat_minor": 2
}
