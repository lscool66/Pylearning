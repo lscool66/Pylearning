{
 "cells": [
  {
   "cell_type": "code",
   "execution_count": 3,
   "metadata": {},
   "outputs": [
    {
     "name": "stdout",
     "output_type": "stream",
     "text": [
      "0.320141\n",
      "9592\n"
     ]
    }
   ],
   "source": [
    "#10万以内素数\n",
    "import datetime\n",
    "start = datetime.datetime.now()\n",
    "nums ='2 '\n",
    "count = 1\n",
    "for i in range(3,100001,2):\n",
    "    for j in range(2,int(i**0.5)+1):\n",
    "        if i%j == 0:\n",
    "            break\n",
    "    else:\n",
    "        count += 1\n",
    "        nums += str(i) + ' '\n",
    "delta = (datetime.datetime.now() - start).total_seconds()\n",
    "print (delta)\n",
    "#print(nums)\n",
    "print(count)"
   ]
  },
  {
   "cell_type": "code",
   "execution_count": 4,
   "metadata": {},
   "outputs": [
    {
     "name": "stdout",
     "output_type": "stream",
     "text": [
      "[2, 3, 5, 7, 11, 13, 17, 19, 23, 29, 31, 37, 41, 43, 47, 53, 59, 61, 67, 71, 73, 79, 83, 89, 97]\n"
     ]
    }
   ],
   "source": [
    "prime = [2]\n",
    "for i in range(3,100):\n",
    "    for j in prime:\n",
    "        if i%j == 0:\n",
    "            break\n",
    "    else:\n",
    "        prime.append(i)\n",
    "print(prime)"
   ]
  },
  {
   "cell_type": "code",
   "execution_count": 5,
   "metadata": {},
   "outputs": [
    {
     "name": "stdout",
     "output_type": "stream",
     "text": [
      "0.352098\n"
     ]
    }
   ],
   "source": [
    "#10万以内素数\n",
    "import datetime\n",
    "start = datetime.datetime.now()\n",
    "nums ='2 '\n",
    "count = 1\n",
    "for i in range(3,100001,2):\n",
    "    for j in range(2,int(i**0.5)+1):\n",
    "        if i%j == 0:\n",
    "            break\n",
    "    else:\n",
    "        count += 1\n",
    "        nums += str(i) + ' '\n",
    "delta = (datetime.datetime.now() - start).total_seconds()\n",
    "print (delta)\n",
    "#print(nums)"
   ]
  },
  {
   "cell_type": "code",
   "execution_count": 6,
   "metadata": {},
   "outputs": [],
   "source": [
    "from typing import List\n",
    "\n",
    "\n",
    "def prime_factors(n: int) -> List[int]:\n",
    "    \"\"\"\n",
    "    Returns prime factors of n as a list.\n",
    "    \n",
    "    >>> prime_factors(0)\n",
    "    []\n",
    "    >>> prime_factors(100)\n",
    "    [2, 2, 5, 5]\n",
    "    >>> prime_factors(2560)\n",
    "    [2, 2, 2, 2, 2, 2, 2, 2, 2, 5]\n",
    "    >>> prime_factors(10**-2)\n",
    "    []\n",
    "    >>> prime_factors(0.02)\n",
    "    []\n",
    "    >>> x = prime_factors(10**241) # doctest: +NORMALIZE_WHITESPACE\n",
    "    >>> x == [2]*241 + [5]*241\n",
    "    True\n",
    "    >>> prime_factors(10**-354)\n",
    "    []\n",
    "    >>> prime_factors('hello')\n",
    "    Traceback (most recent call last):\n",
    "        ...\n",
    "    TypeError: '<=' not supported between instances of 'int' and 'str'\n",
    "    >>> prime_factors([1,2,'hello'])\n",
    "    Traceback (most recent call last):\n",
    "        ...\n",
    "    TypeError: '<=' not supported between instances of 'int' and 'list'\n",
    "\n",
    "    \"\"\"\n",
    "    i = 2\n",
    "    factors = []\n",
    "    while i * i <= n:\n",
    "        if n % i:\n",
    "            i += 1\n",
    "        else:\n",
    "            n //= i\n",
    "            factors.append(i)\n",
    "    if n > 1:\n",
    "        factors.append(n)\n",
    "    return factors"
   ]
  },
  {
   "cell_type": "code",
   "execution_count": null,
   "metadata": {},
   "outputs": [],
   "source": []
  }
 ],
 "metadata": {
  "kernelspec": {
   "display_name": "Python 3",
   "language": "python",
   "name": "python3"
  },
  "language_info": {
   "codemirror_mode": {
    "name": "ipython",
    "version": 3
   },
   "file_extension": ".py",
   "mimetype": "text/x-python",
   "name": "python",
   "nbconvert_exporter": "python",
   "pygments_lexer": "ipython3",
   "version": "3.7.0"
  }
 },
 "nbformat": 4,
 "nbformat_minor": 2
}
