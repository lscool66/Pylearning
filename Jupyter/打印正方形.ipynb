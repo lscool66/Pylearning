{
 "cells": [
  {
   "cell_type": "code",
   "execution_count": 1,
   "metadata": {},
   "outputs": [
    {
     "name": "stdout",
     "output_type": "stream",
     "text": [
      "please input number:10\n",
      "**********\n",
      "*        *\n",
      "*        *\n",
      "*        *\n",
      "*        *\n",
      "*        *\n",
      "*        *\n",
      "*        *\n",
      "*        *\n",
      "**********\n"
     ]
    }
   ],
   "source": [
    "# 根据输入打印\n",
    "\n",
    "rows = int(input('please input number:'))\n",
    "\n",
    "\n",
    "# 打印正方形\n",
    "\n",
    "# for i in range(0, rows):\n",
    "\n",
    "#     for k in range(0, rows):\n",
    "\n",
    "#         print('*')\n",
    "\n",
    "#         k += 1\n",
    "\n",
    "#     i += 1\n",
    "\n",
    "#     print ('\\n')\n",
    "for i in range(rows):\n",
    "    if i == 0 or i == rows - 1:\n",
    "        print('*' * rows)\n",
    "    else:\n",
    "        print('*' + ' ' * (rows - 2) + '*')"
   ]
  },
  {
   "cell_type": "code",
   "execution_count": null,
   "metadata": {},
   "outputs": [],
   "source": []
  }
 ],
 "metadata": {
  "kernelspec": {
   "display_name": "Python 3",
   "language": "python",
   "name": "python3"
  },
  "language_info": {
   "codemirror_mode": {
    "name": "ipython",
    "version": 3
   },
   "file_extension": ".py",
   "mimetype": "text/x-python",
   "name": "python",
   "nbconvert_exporter": "python",
   "pygments_lexer": "ipython3",
   "version": "3.7.0"
  }
 },
 "nbformat": 4,
 "nbformat_minor": 2
}
